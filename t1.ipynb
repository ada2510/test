{
 "cells": [
  {
   "cell_type": "markdown",
   "metadata": {},
   "source": [
    "就是不一样\n"
   ]
  }
 ],
 "metadata": {
  "language_info": {
   "name": "python"
  },
  "orig_nbformat": 4
 },
 "nbformat": 4,
 "nbformat_minor": 2
}
